{
 "cells": [
  {
   "cell_type": "markdown",
   "metadata": {},
   "source": [
    "## Introduction to rTASSEL\n",
    "\n",
    "### Overview\n",
    "Thanks for checking out `rTASSEL`! In this notebook, we will go over the functionalities used to work with the TASSEL software via R.\n",
    "\n",
    "TASSEL is a software package used to evaluate traits associations, evolutionary patterns, and linkage disequilibrium. Strengths of this software include:\n",
    "\n",
    "1. The opportunity for a number of new and powerful statistical approaches to association mapping such as a General Linear Model (GLM) and Mixed Linear Model (MLM). MLM is an implementation of the technique which our lab's published Nature Genetics paper - Unified Mixed-Model Method for Association Mapping - which reduces Type I error in association mapping with complex pedigrees, families, founding effects and population structure.\n",
    "\n",
    "2. An ability to handle a wide range of indels (insertion & deletions). Most software ignore this type of polymorphism; however, in some species (like maize), this is the most common type of polymorphism.\n",
    "\n",
    "\n",
    "### Motivation\n",
    "The main goal of developing this package is to construct an R-based front-end to connect to a variety of highly used TASSEL methods and analytical tools. By using R as a front-end, we aim to utilize a unified scripting workflow that exploits the analytical prowess of TASSEL in conjunction with R's popular data handling and parsing capabilities without ever having the user to switch between these two environments.\n",
    "\n",
    "More information can be found on our [Bitbucket repository](https://bitbucket.org/bucklerlab/rtassel/src/master/)."
   ]
  },
  {
   "cell_type": "code",
   "execution_count": null,
   "metadata": {},
   "outputs": [],
   "source": [
    "# Introduction to rTASSEL ----\n",
    "library(rTASSEL) "
   ]
  },
  {
   "cell_type": "code",
   "execution_count": null,
   "metadata": {},
   "outputs": [],
   "source": [
    "# Load hapmap data\n",
    "genoPathHMP <- system.file(\n",
    "    \"extdata\",\n",
    "    \"mdp_genotype.hmp.txt\",\n",
    "    package = \"rTASSEL\"\n",
    ")\n",
    "genoPathHMP"
   ]
  },
  {
   "cell_type": "code",
   "execution_count": null,
   "metadata": {},
   "outputs": [],
   "source": [
    "# Load in hapmap file\n",
    "tasGenoHMP <- rTASSEL::readGenotypeTableFromPath(\n",
    "    path = genoPathHMP\n",
    ") \n",
    "tasGenoHMP"
   ]
  },
  {
   "cell_type": "code",
   "execution_count": null,
   "metadata": {},
   "outputs": [],
   "source": [
    "# Load in phenotype information\n",
    "phenoPath  <- system.file(\"extdata\", \"mdp_traits.txt\", package = \"rTASSEL\")\n",
    "phenoPath"
   ]
  },
  {
   "cell_type": "code",
   "execution_count": null,
   "metadata": {},
   "outputs": [],
   "source": [
    "# Load into rTASSEL `TasselGenotypePhenotype` object\n",
    "tasPheno <- rTASSEL::readPhenotypeFromPath(\n",
    "    path = phenoPath\n",
    ") \n",
    "tasPheno"
   ]
  },
  {
   "cell_type": "code",
   "execution_count": null,
   "metadata": {},
   "outputs": [],
   "source": [
    "# Read genotype and phenotype information simultaneously\n",
    "tasGenoPheno <- rTASSEL::readGenotypePhenotype(\n",
    "    genoPathOrObj = tasGenoHMP,\n",
    "    phenoPathDFOrObj = tasPheno\n",
    ")\n",
    "tasGenoPheno"
   ]
  },
  {
   "cell_type": "code",
   "execution_count": null,
   "metadata": {},
   "outputs": [],
   "source": [
    "# Run association - GLM\n",
    "# Calculate GLM\n",
    "tasGLM <- rTASSEL::assocModelFitter(\n",
    "    tasObj = tasGenoPheno,             # <- our prior TASSEL object\n",
    "    formula = list(EarHT, dpoll) ~ .,  # <- only EarHT and dpoll are ran\n",
    "    fitMarkers = TRUE,                 # <- set this to TRUE for GLM\n",
    "    kinship = NULL,\n",
    "    fastAssociation = FALSE\n",
    ")"
   ]
  },
  {
   "cell_type": "code",
   "execution_count": null,
   "metadata": {},
   "outputs": [],
   "source": [
    "# Inspect data\n",
    "tasGLM$GLM_Stats[, 1:6]"
   ]
  },
  {
   "cell_type": "code",
   "execution_count": null,
   "metadata": {},
   "outputs": [],
   "source": []
  }
 ],
 "metadata": {
  "kernelspec": {
   "display_name": "R",
   "language": "R",
   "name": "ir"
  },
  "language_info": {
   "codemirror_mode": "r",
   "file_extension": ".r",
   "mimetype": "text/x-r-source",
   "name": "R",
   "pygments_lexer": "r",
   "version": "3.6.1"
  }
 },
 "nbformat": 4,
 "nbformat_minor": 4
}
