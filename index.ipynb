{
 "cells": [
  {
   "cell_type": "markdown",
   "metadata": {},
   "source": [
    "## Introduction to rTASSEL\n",
    "\n",
    "### Overview\n",
    "Thanks for checking out `rTASSEL`! In this notebook, we will go over the functionalities used to work with the TASSEL software via R.\n",
    "\n",
    "TASSEL is a software package used to evaluate traits associations, evolutionary patterns, and linkage disequilibrium. Strengths of this software include:\n",
    "\n",
    "1. The opportunity for a number of new and powerful statistical approaches to association mapping such as a General Linear Model (GLM) and Mixed Linear Model (MLM). MLM is an implementation of the technique which our lab's published Nature Genetics paper - Unified Mixed-Model Method for Association Mapping - which reduces Type I error in association mapping with complex pedigrees, families, founding effects and population structure.\n",
    "\n",
    "2. An ability to handle a wide range of indels (insertion & deletions). Most software ignore this type of polymorphism; however, in some species (like maize), this is the most common type of polymorphism.\n",
    "\n",
    "\n",
    "### Motivation\n",
    "The main goal of developing this package is to construct an R-based front-end to connect to a variety of highly used TASSEL methods and analytical tools. By using R as a front-end, we aim to utilize a unified scripting workflow that exploits the analytical prowess of TASSEL in conjunction with R's popular data handling and parsing capabilities without ever having the user to switch between these two environments.\n",
    "\n",
    "More information can be found on our [Bitbucket repository](https://bitbucket.org/bucklerlab/rtassel/src/master/)."
   ]
  },
  {
   "cell_type": "code",
   "execution_count": 1,
   "metadata": {},
   "outputs": [
    {
     "name": "stderr",
     "output_type": "stream",
     "text": [
      "Warning message:\n",
      "\"package 'rTASSEL' was built under R version 3.6.3\"Welcome to rTASSEL (version 0.9.16)\n",
      " • Consider starting a TASSEL log file (see ?startLogger())\n",
      "\n"
     ]
    }
   ],
   "source": [
    "# Introduction to rTASSEL ----\n",
    "library(rTASSEL) "
   ]
  },
  {
   "cell_type": "code",
   "execution_count": 2,
   "metadata": {},
   "outputs": [
    {
     "data": {
      "text/html": [
       "'C:/Users/brand/Documents/R/win-library/3.6/rTASSEL/extdata/mdp_genotype.hmp.txt'"
      ],
      "text/latex": [
       "'C:/Users/brand/Documents/R/win-library/3.6/rTASSEL/extdata/mdp\\_genotype.hmp.txt'"
      ],
      "text/markdown": [
       "'C:/Users/brand/Documents/R/win-library/3.6/rTASSEL/extdata/mdp_genotype.hmp.txt'"
      ],
      "text/plain": [
       "[1] \"C:/Users/brand/Documents/R/win-library/3.6/rTASSEL/extdata/mdp_genotype.hmp.txt\""
      ]
     },
     "metadata": {},
     "output_type": "display_data"
    }
   ],
   "source": [
    "# Load hapmap data\n",
    "genoPathHMP <- system.file(\n",
    "    \"extdata\",\n",
    "    \"mdp_genotype.hmp.txt\",\n",
    "    package = \"rTASSEL\"\n",
    ")\n",
    "genoPathHMP"
   ]
  },
  {
   "cell_type": "code",
   "execution_count": 3,
   "metadata": {},
   "outputs": [
    {
     "data": {
      "text/plain": [
       "A TasselGenotypePhenotype Dataset\n",
       "  Class.............. TasselGenotypePhenotype \n",
       "  Taxa............... 281 \n",
       "  Positions.......... 3093 \n",
       "  Taxa x Positions... 869133 \n",
       "---\n",
       "  Genotype Table..... [x]\n",
       "  Phenotype Table.... [ ]"
      ]
     },
     "metadata": {},
     "output_type": "display_data"
    }
   ],
   "source": [
    "# Load in hapmap file\n",
    "tasGenoHMP <- rTASSEL::readGenotypeTableFromPath(\n",
    "    path = genoPathHMP\n",
    ") \n",
    "tasGenoHMP"
   ]
  },
  {
   "cell_type": "code",
   "execution_count": 4,
   "metadata": {},
   "outputs": [
    {
     "data": {
      "text/html": [
       "'C:/Users/brand/Documents/R/win-library/3.6/rTASSEL/extdata/mdp_traits.txt'"
      ],
      "text/latex": [
       "'C:/Users/brand/Documents/R/win-library/3.6/rTASSEL/extdata/mdp\\_traits.txt'"
      ],
      "text/markdown": [
       "'C:/Users/brand/Documents/R/win-library/3.6/rTASSEL/extdata/mdp_traits.txt'"
      ],
      "text/plain": [
       "[1] \"C:/Users/brand/Documents/R/win-library/3.6/rTASSEL/extdata/mdp_traits.txt\""
      ]
     },
     "metadata": {},
     "output_type": "display_data"
    }
   ],
   "source": [
    "# Load in phenotype information\n",
    "phenoPath  <- system.file(\"extdata\", \"mdp_traits.txt\", package = \"rTASSEL\")\n",
    "phenoPath"
   ]
  },
  {
   "cell_type": "code",
   "execution_count": 5,
   "metadata": {},
   "outputs": [
    {
     "data": {
      "text/plain": [
       "A TasselGenotypePhenotype Dataset\n",
       "  Class.............. TasselGenotypePhenotype \n",
       "  Taxa............... 301 \n",
       "  Positions.......... NA \n",
       "  Taxa x Positions... NA \n",
       "---\n",
       "  Genotype Table..... [ ]\n",
       "  Phenotype Table.... [x]\n",
       "---\n",
       "  Traits: Taxa EarHT dpoll EarDia "
      ]
     },
     "metadata": {},
     "output_type": "display_data"
    }
   ],
   "source": [
    "# Load into rTASSEL `TasselGenotypePhenotype` object\n",
    "tasPheno <- rTASSEL::readPhenotypeFromPath(\n",
    "    path = phenoPath\n",
    ") \n",
    "tasPheno"
   ]
  },
  {
   "cell_type": "code",
   "execution_count": 6,
   "metadata": {},
   "outputs": [
    {
     "data": {
      "text/plain": [
       "A TasselGenotypePhenotype Dataset\n",
       "  Class.............. TasselGenotypePhenotype \n",
       "  Taxa............... 279 \n",
       "  Positions.......... 3093 \n",
       "  Taxa x Positions... 862947 \n",
       "---\n",
       "  Genotype Table..... [x]\n",
       "  Phenotype Table.... [x]\n",
       "---\n",
       "  Traits: Taxa EarHT dpoll EarDia "
      ]
     },
     "metadata": {},
     "output_type": "display_data"
    }
   ],
   "source": [
    "# Read genotype and phenotype information simultaneously\n",
    "tasGenoPheno <- rTASSEL::readGenotypePhenotype(\n",
    "    genoPathOrObj = tasGenoHMP,\n",
    "    phenoPathDFOrObj = tasPheno\n",
    ")\n",
    "tasGenoPheno"
   ]
  },
  {
   "cell_type": "code",
   "execution_count": 7,
   "metadata": {},
   "outputs": [
    {
     "name": "stderr",
     "output_type": "stream",
     "text": [
      "Running all non <data> traits and/or <taxa>...\n",
      "Association Analysis : GLM\n"
     ]
    }
   ],
   "source": [
    "# Run association - GLM\n",
    "# Calculate GLM\n",
    "tasGLM <- rTASSEL::assocModelFitter(\n",
    "    tasObj = tasGenoPheno,             # <- our prior TASSEL object\n",
    "    formula = list(EarHT, dpoll) ~ .,  # <- only EarHT and dpoll are ran\n",
    "    fitMarkers = TRUE,                 # <- set this to TRUE for GLM\n",
    "    kinship = NULL,\n",
    "    fastAssociation = FALSE\n",
    ")"
   ]
  },
  {
   "cell_type": "code",
   "execution_count": 8,
   "metadata": {},
   "outputs": [
    {
     "data": {
      "text/plain": [
       "DataFrame with 473 rows and 6 columns\n",
       "          Trait      Marker         Chr       Pos         marker_F\n",
       "    <character> <character> <character> <integer>        <numeric>\n",
       "1         EarHT  PZA00447.8           1   9024005 13.6180300229943\n",
       "2         EarHT  PZB00718.1           1  17601375 7.78128017162806\n",
       "3         EarHT  PZD00098.1           1  23267898 13.2838791337737\n",
       "4         EarHT  PZA02921.4           1  25035053 13.1884715987084\n",
       "5         EarHT PZA00654.12           1  32583282 12.8128934291243\n",
       "...         ...         ...         ...       ...              ...\n",
       "469       dpoll  PZA03711.2          10 121491031 18.0228509985239\n",
       "470       dpoll  PZA03711.3          10 121491202 12.7772833682735\n",
       "471       dpoll  PZA03710.4          10 121491895 11.7034257765584\n",
       "472       dpoll  PZA03229.1          10 139507065 8.05478095341354\n",
       "473       dpoll  PZA03267.4          10 139717741 7.16481998885837\n",
       "                       p\n",
       "               <numeric>\n",
       "1   0.000274961381885706\n",
       "2   0.000524045561481513\n",
       "3   0.000323434236339633\n",
       "4   0.000341435168088889\n",
       "5   0.000411994409077071\n",
       "...                  ...\n",
       "469 3.05175825014711e-05\n",
       "470 0.000418961893988021\n",
       "471 0.000720441938402267\n",
       "472 0.000400163886991145\n",
       "473 0.000935577731777259"
      ]
     },
     "metadata": {},
     "output_type": "display_data"
    }
   ],
   "source": [
    "# Inspect data\n",
    "tasGLM$GLM_Stats[, 1:6]"
   ]
  },
  {
   "cell_type": "code",
   "execution_count": null,
   "metadata": {},
   "outputs": [],
   "source": []
  }
 ],
 "metadata": {
  "kernelspec": {
   "display_name": "R",
   "language": "R",
   "name": "ir"
  },
  "language_info": {
   "codemirror_mode": "r",
   "file_extension": ".r",
   "mimetype": "text/x-r-source",
   "name": "R",
   "pygments_lexer": "r",
   "version": "3.6.1"
  }
 },
 "nbformat": 4,
 "nbformat_minor": 4
}
